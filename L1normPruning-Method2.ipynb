{
  "nbformat": 4,
  "nbformat_minor": 0,
  "metadata": {
    "kernelspec": {
      "display_name": "Python 3",
      "language": "python",
      "name": "python3"
    },
    "language_info": {
      "codemirror_mode": {
        "name": "ipython",
        "version": 3
      },
      "file_extension": ".py",
      "mimetype": "text/x-python",
      "name": "python",
      "nbconvert_exporter": "python",
      "pygments_lexer": "ipython3",
      "version": "3.7.6"
    },
    "colab": {
      "provenance": []
    },
    "accelerator": "GPU"
  },
  "cells": [
    {
      "cell_type": "markdown",
      "metadata": {
        "id": "y-eC-sb34T9w"
      },
      "source": [
        "## Accelerate Inference: Neural Network Pruning"
      ]
    },
    {
      "cell_type": "code",
      "source": [
        "from google.colab import drive\n",
        "drive.mount(\"/content/drive\")"
      ],
      "metadata": {
        "id": "u3N7OrHDqcyn",
        "colab": {
          "base_uri": "https://localhost:8080/"
        },
        "outputId": "a66d63c8-0cf1-4a03-a5fa-5325f573e27b"
      },
      "execution_count": 4,
      "outputs": [
        {
          "output_type": "stream",
          "name": "stdout",
          "text": [
            "Drive already mounted at /content/drive; to attempt to forcibly remount, call drive.mount(\"/content/drive\", force_remount=True).\n"
          ]
        }
      ]
    },
    {
      "cell_type": "code",
      "metadata": {
        "id": "L47XBZWm4T9x",
        "colab": {
          "base_uri": "https://localhost:8080/"
        },
        "outputId": "c258a579-d61c-4064-8c96-67b64e6f19a4"
      },
      "source": [
        "import os\n",
        "import numpy as np\n",
        "import cv2\n",
        "import matplotlib.pyplot as plt\n",
        "import pickle\n",
        "import time\n",
        "\n",
        "import tensorflow as tf\n",
        "from tensorflow import keras\n",
        "from tensorflow.keras import datasets, layers, models, regularizers\n",
        "from tensorflow.keras.layers import *\n",
        "\n",
        "print(tf.version.VERSION)"
      ],
      "execution_count": 5,
      "outputs": [
        {
          "output_type": "stream",
          "name": "stdout",
          "text": [
            "2.12.0\n"
          ]
        }
      ]
    },
    {
      "cell_type": "code",
      "metadata": {
        "id": "V1FQTVeAuNiU",
        "colab": {
          "base_uri": "https://localhost:8080/"
        },
        "outputId": "1b153b21-c76b-4055-cf7d-5259dd259609"
      },
      "source": [
        "# untar\n",
        "!tar -xvzf drive/MyDrive/dataset/dataset.tar.gz\n",
        "# load train\n",
        "train_images = pickle.load(open('train_images.pkl', 'rb'))\n",
        "train_labels = pickle.load(open('train_labels.pkl', 'rb'))\n",
        "# load val\n",
        "val_images = pickle.load(open('val_images.pkl', 'rb'))\n",
        "val_labels = pickle.load(open('val_labels.pkl', 'rb'))"
      ],
      "execution_count": 6,
      "outputs": [
        {
          "output_type": "stream",
          "name": "stdout",
          "text": [
            "train_images.pkl\n",
            "train_labels.pkl\n",
            "val_images.pkl\n",
            "val_labels.pkl\n"
          ]
        }
      ]
    },
    {
      "cell_type": "code",
      "metadata": {
        "id": "KE9JuZDG4T94"
      },
      "source": [
        "# Define the neural network architecture (don't change this)\n",
        "\n",
        "model = models.Sequential()\n",
        "model.add(Conv2D(32, (3, 3), padding='same', kernel_regularizer=regularizers.l2(1e-5), input_shape=(25,25,3)))\n",
        "model.add(Activation('relu'))\n",
        "model.add(Conv2D(32, (3, 3), kernel_regularizer=regularizers.l2(1e-5)))\n",
        "model.add(Activation('relu'))\n",
        "model.add(MaxPooling2D(pool_size=(2, 2)))\n",
        "model.add(Dropout(0.25))\n",
        "model.add(Conv2D(64, (3, 3), padding='same', kernel_regularizer=regularizers.l2(1e-5)))\n",
        "model.add(Activation('relu'))\n",
        "model.add(Conv2D(64, (3, 3), kernel_regularizer=regularizers.l2(1e-5)))\n",
        "model.add(Activation('relu'))\n",
        "model.add(MaxPooling2D(pool_size=(2, 2)))\n",
        "model.add(Dropout(0.25))\n",
        "model.add(Flatten())\n",
        "model.add(Dense(512))\n",
        "model.add(Activation('relu'))\n",
        "model.add(Dropout(0.5))\n",
        "model.add(Dense(5))\n",
        "model.add(Activation('softmax'))"
      ],
      "execution_count": 7,
      "outputs": []
    },
    {
      "cell_type": "code",
      "metadata": {
        "id": "JTzcSoYl4T97",
        "colab": {
          "base_uri": "https://localhost:8080/"
        },
        "outputId": "77930727-a1d7-40cd-a216-66ec1fe6119a"
      },
      "source": [
        "print(model.summary())"
      ],
      "execution_count": 8,
      "outputs": [
        {
          "output_type": "stream",
          "name": "stdout",
          "text": [
            "Model: \"sequential\"\n",
            "_________________________________________________________________\n",
            " Layer (type)                Output Shape              Param #   \n",
            "=================================================================\n",
            " conv2d (Conv2D)             (None, 25, 25, 32)        896       \n",
            "                                                                 \n",
            " activation (Activation)     (None, 25, 25, 32)        0         \n",
            "                                                                 \n",
            " conv2d_1 (Conv2D)           (None, 23, 23, 32)        9248      \n",
            "                                                                 \n",
            " activation_1 (Activation)   (None, 23, 23, 32)        0         \n",
            "                                                                 \n",
            " max_pooling2d (MaxPooling2D  (None, 11, 11, 32)       0         \n",
            " )                                                               \n",
            "                                                                 \n",
            " dropout (Dropout)           (None, 11, 11, 32)        0         \n",
            "                                                                 \n",
            " conv2d_2 (Conv2D)           (None, 11, 11, 64)        18496     \n",
            "                                                                 \n",
            " activation_2 (Activation)   (None, 11, 11, 64)        0         \n",
            "                                                                 \n",
            " conv2d_3 (Conv2D)           (None, 9, 9, 64)          36928     \n",
            "                                                                 \n",
            " activation_3 (Activation)   (None, 9, 9, 64)          0         \n",
            "                                                                 \n",
            " max_pooling2d_1 (MaxPooling  (None, 4, 4, 64)         0         \n",
            " 2D)                                                             \n",
            "                                                                 \n",
            " dropout_1 (Dropout)         (None, 4, 4, 64)          0         \n",
            "                                                                 \n",
            " flatten (Flatten)           (None, 1024)              0         \n",
            "                                                                 \n",
            " dense (Dense)               (None, 512)               524800    \n",
            "                                                                 \n",
            " activation_4 (Activation)   (None, 512)               0         \n",
            "                                                                 \n",
            " dropout_2 (Dropout)         (None, 512)               0         \n",
            "                                                                 \n",
            " dense_1 (Dense)             (None, 5)                 2565      \n",
            "                                                                 \n",
            " activation_5 (Activation)   (None, 5)                 0         \n",
            "                                                                 \n",
            "=================================================================\n",
            "Total params: 592,933\n",
            "Trainable params: 592,933\n",
            "Non-trainable params: 0\n",
            "_________________________________________________________________\n",
            "None\n"
          ]
        }
      ]
    },
    {
      "cell_type": "code",
      "metadata": {
        "id": "G9Nk_MAPqZPt",
        "colab": {
          "base_uri": "https://localhost:8080/"
        },
        "outputId": "8acef357-20bc-4034-9f5c-f47877c9ad05"
      },
      "source": [
        "# you can use the default hyper-parameters for training, \n",
        "# val accuracy ~72% after 50 epochs\n",
        "\n",
        "model.compile(optimizer=keras.optimizers.Adam(learning_rate=0.0001, weight_decay=1e-6),\n",
        "              loss=tf.keras.losses.SparseCategoricalCrossentropy(from_logits=False),\n",
        "              metrics=['accuracy'])\n",
        "\n",
        "history = model.fit(train_images, train_labels, batch_size=32, epochs=50, \n",
        "                    validation_data=(val_images, val_labels)) # train for 50 epochs, with batch size 32"
      ],
      "execution_count": 9,
      "outputs": [
        {
          "output_type": "stream",
          "name": "stdout",
          "text": [
            "Epoch 1/50\n",
            "703/703 [==============================] - 17s 8ms/step - loss: 1.5113 - accuracy: 0.3067 - val_loss: 1.3657 - val_accuracy: 0.4099\n",
            "Epoch 2/50\n",
            "703/703 [==============================] - 4s 5ms/step - loss: 1.3394 - accuracy: 0.4269 - val_loss: 1.2652 - val_accuracy: 0.4626\n",
            "Epoch 3/50\n",
            "703/703 [==============================] - 4s 6ms/step - loss: 1.2679 - accuracy: 0.4686 - val_loss: 1.1940 - val_accuracy: 0.5042\n",
            "Epoch 4/50\n",
            "703/703 [==============================] - 5s 7ms/step - loss: 1.2199 - accuracy: 0.4944 - val_loss: 1.1586 - val_accuracy: 0.5129\n",
            "Epoch 5/50\n",
            "703/703 [==============================] - 4s 6ms/step - loss: 1.1825 - accuracy: 0.5154 - val_loss: 1.1266 - val_accuracy: 0.5362\n",
            "Epoch 6/50\n",
            "703/703 [==============================] - 4s 5ms/step - loss: 1.1559 - accuracy: 0.5253 - val_loss: 1.1037 - val_accuracy: 0.5497\n",
            "Epoch 7/50\n",
            "703/703 [==============================] - 5s 7ms/step - loss: 1.1300 - accuracy: 0.5431 - val_loss: 1.0769 - val_accuracy: 0.5545\n",
            "Epoch 8/50\n",
            "703/703 [==============================] - 5s 7ms/step - loss: 1.1110 - accuracy: 0.5506 - val_loss: 1.0692 - val_accuracy: 0.5576\n",
            "Epoch 9/50\n",
            "703/703 [==============================] - 4s 6ms/step - loss: 1.0865 - accuracy: 0.5640 - val_loss: 1.0628 - val_accuracy: 0.5640\n",
            "Epoch 10/50\n",
            "703/703 [==============================] - 6s 9ms/step - loss: 1.0643 - accuracy: 0.5737 - val_loss: 1.0219 - val_accuracy: 0.5834\n",
            "Epoch 11/50\n",
            "703/703 [==============================] - 4s 6ms/step - loss: 1.0480 - accuracy: 0.5862 - val_loss: 1.0257 - val_accuracy: 0.5822\n",
            "Epoch 12/50\n",
            "703/703 [==============================] - 4s 5ms/step - loss: 1.0249 - accuracy: 0.5941 - val_loss: 0.9875 - val_accuracy: 0.6000\n",
            "Epoch 13/50\n",
            "703/703 [==============================] - 5s 7ms/step - loss: 1.0098 - accuracy: 0.5983 - val_loss: 0.9876 - val_accuracy: 0.6040\n",
            "Epoch 14/50\n",
            "703/703 [==============================] - 4s 6ms/step - loss: 0.9910 - accuracy: 0.6136 - val_loss: 0.9557 - val_accuracy: 0.6242\n",
            "Epoch 15/50\n",
            "703/703 [==============================] - 4s 6ms/step - loss: 0.9692 - accuracy: 0.6214 - val_loss: 0.9488 - val_accuracy: 0.6123\n",
            "Epoch 16/50\n",
            "703/703 [==============================] - 5s 7ms/step - loss: 0.9557 - accuracy: 0.6258 - val_loss: 0.9349 - val_accuracy: 0.6238\n",
            "Epoch 17/50\n",
            "703/703 [==============================] - 4s 6ms/step - loss: 0.9404 - accuracy: 0.6328 - val_loss: 0.9320 - val_accuracy: 0.6265\n",
            "Epoch 18/50\n",
            "703/703 [==============================] - 4s 6ms/step - loss: 0.9260 - accuracy: 0.6387 - val_loss: 0.9234 - val_accuracy: 0.6313\n",
            "Epoch 19/50\n",
            "703/703 [==============================] - 5s 6ms/step - loss: 0.9140 - accuracy: 0.6469 - val_loss: 0.8872 - val_accuracy: 0.6459\n",
            "Epoch 20/50\n",
            "703/703 [==============================] - 4s 6ms/step - loss: 0.8955 - accuracy: 0.6526 - val_loss: 0.9009 - val_accuracy: 0.6424\n",
            "Epoch 21/50\n",
            "703/703 [==============================] - 4s 6ms/step - loss: 0.8857 - accuracy: 0.6558 - val_loss: 0.9050 - val_accuracy: 0.6376\n",
            "Epoch 22/50\n",
            "703/703 [==============================] - 4s 6ms/step - loss: 0.8698 - accuracy: 0.6640 - val_loss: 0.8930 - val_accuracy: 0.6448\n",
            "Epoch 23/50\n",
            "703/703 [==============================] - 5s 6ms/step - loss: 0.8616 - accuracy: 0.6661 - val_loss: 0.8582 - val_accuracy: 0.6550\n",
            "Epoch 24/50\n",
            "703/703 [==============================] - 4s 5ms/step - loss: 0.8490 - accuracy: 0.6731 - val_loss: 0.8336 - val_accuracy: 0.6780\n",
            "Epoch 25/50\n",
            "703/703 [==============================] - 4s 5ms/step - loss: 0.8386 - accuracy: 0.6784 - val_loss: 0.8304 - val_accuracy: 0.6717\n",
            "Epoch 26/50\n",
            "703/703 [==============================] - 5s 7ms/step - loss: 0.8205 - accuracy: 0.6885 - val_loss: 0.8240 - val_accuracy: 0.6760\n",
            "Epoch 27/50\n",
            "703/703 [==============================] - 4s 6ms/step - loss: 0.8144 - accuracy: 0.6873 - val_loss: 0.8309 - val_accuracy: 0.6689\n",
            "Epoch 28/50\n",
            "703/703 [==============================] - 4s 6ms/step - loss: 0.8051 - accuracy: 0.6946 - val_loss: 0.8035 - val_accuracy: 0.6788\n",
            "Epoch 29/50\n",
            "703/703 [==============================] - 5s 7ms/step - loss: 0.7921 - accuracy: 0.6974 - val_loss: 0.7997 - val_accuracy: 0.6836\n",
            "Epoch 30/50\n",
            "703/703 [==============================] - 4s 6ms/step - loss: 0.7768 - accuracy: 0.7057 - val_loss: 0.8040 - val_accuracy: 0.6816\n",
            "Epoch 31/50\n",
            "703/703 [==============================] - 4s 6ms/step - loss: 0.7720 - accuracy: 0.7060 - val_loss: 0.7894 - val_accuracy: 0.6927\n",
            "Epoch 32/50\n",
            "703/703 [==============================] - 5s 7ms/step - loss: 0.7681 - accuracy: 0.7091 - val_loss: 0.7829 - val_accuracy: 0.6927\n",
            "Epoch 33/50\n",
            "703/703 [==============================] - 4s 6ms/step - loss: 0.7527 - accuracy: 0.7159 - val_loss: 0.7723 - val_accuracy: 0.6947\n",
            "Epoch 34/50\n",
            "703/703 [==============================] - 4s 6ms/step - loss: 0.7409 - accuracy: 0.7195 - val_loss: 0.7727 - val_accuracy: 0.7010\n",
            "Epoch 35/50\n",
            "703/703 [==============================] - 5s 7ms/step - loss: 0.7382 - accuracy: 0.7192 - val_loss: 0.7716 - val_accuracy: 0.6947\n",
            "Epoch 36/50\n",
            "703/703 [==============================] - 4s 6ms/step - loss: 0.7236 - accuracy: 0.7277 - val_loss: 0.7745 - val_accuracy: 0.6986\n",
            "Epoch 37/50\n",
            "703/703 [==============================] - 4s 6ms/step - loss: 0.7154 - accuracy: 0.7305 - val_loss: 0.7792 - val_accuracy: 0.6907\n",
            "Epoch 38/50\n",
            "703/703 [==============================] - 4s 6ms/step - loss: 0.7063 - accuracy: 0.7331 - val_loss: 0.7765 - val_accuracy: 0.6911\n",
            "Epoch 39/50\n",
            "703/703 [==============================] - 4s 6ms/step - loss: 0.7035 - accuracy: 0.7325 - val_loss: 0.7461 - val_accuracy: 0.7034\n",
            "Epoch 40/50\n",
            "703/703 [==============================] - 4s 5ms/step - loss: 0.6882 - accuracy: 0.7386 - val_loss: 0.7513 - val_accuracy: 0.7105\n",
            "Epoch 41/50\n",
            "703/703 [==============================] - 4s 6ms/step - loss: 0.6821 - accuracy: 0.7427 - val_loss: 0.7477 - val_accuracy: 0.7081\n",
            "Epoch 42/50\n",
            "703/703 [==============================] - 5s 7ms/step - loss: 0.6759 - accuracy: 0.7466 - val_loss: 0.7354 - val_accuracy: 0.7168\n",
            "Epoch 43/50\n",
            "703/703 [==============================] - 4s 6ms/step - loss: 0.6683 - accuracy: 0.7490 - val_loss: 0.7596 - val_accuracy: 0.7093\n",
            "Epoch 44/50\n",
            "703/703 [==============================] - 4s 6ms/step - loss: 0.6609 - accuracy: 0.7532 - val_loss: 0.7364 - val_accuracy: 0.7156\n",
            "Epoch 45/50\n",
            "703/703 [==============================] - 5s 7ms/step - loss: 0.6497 - accuracy: 0.7532 - val_loss: 0.7257 - val_accuracy: 0.7200\n",
            "Epoch 46/50\n",
            "703/703 [==============================] - 4s 5ms/step - loss: 0.6472 - accuracy: 0.7581 - val_loss: 0.7486 - val_accuracy: 0.7113\n",
            "Epoch 47/50\n",
            "703/703 [==============================] - 4s 5ms/step - loss: 0.6407 - accuracy: 0.7582 - val_loss: 0.7215 - val_accuracy: 0.7224\n",
            "Epoch 48/50\n",
            "703/703 [==============================] - 5s 7ms/step - loss: 0.6298 - accuracy: 0.7638 - val_loss: 0.7231 - val_accuracy: 0.7244\n",
            "Epoch 49/50\n",
            "703/703 [==============================] - 4s 5ms/step - loss: 0.6240 - accuracy: 0.7658 - val_loss: 0.7774 - val_accuracy: 0.7022\n",
            "Epoch 50/50\n",
            "703/703 [==============================] - 4s 6ms/step - loss: 0.6121 - accuracy: 0.7689 - val_loss: 0.7165 - val_accuracy: 0.7251\n"
          ]
        }
      ]
    },
    {
      "cell_type": "code",
      "source": [
        "model.save_weights('my_model_weights_orig.h5')\n",
        "#model.load_weights('my_model_weights_orig.h5')\n",
        "#weightsOrig = model.get_weights()\n",
        "#model.set_weights(weightsOrig)\n",
        "results = model.evaluate(val_images, val_labels, batch_size=128)\n"
      ],
      "metadata": {
        "colab": {
          "base_uri": "https://localhost:8080/"
        },
        "id": "56fcyjopbAIn",
        "outputId": "2bcaacd0-8409-4946-9125-c48b24fee1f2"
      },
      "execution_count": 10,
      "outputs": [
        {
          "output_type": "stream",
          "name": "stdout",
          "text": [
            "20/20 [==============================] - 0s 11ms/step - loss: 0.7165 - accuracy: 0.7251\n"
          ]
        }
      ]
    },
    {
      "cell_type": "code",
      "source": [
        "# sample images\n",
        "index = 20 # 20 = bird(0)\n",
        "print(len(train_images))\n",
        "t = train_images[index,:]\n",
        "print(t.shape)\n",
        "tLab = train_labels[index]\n",
        "print(tLab)\n",
        "plt.imshow(t)"
      ],
      "metadata": {
        "id": "QHlhnNEz7ZSG",
        "colab": {
          "base_uri": "https://localhost:8080/",
          "height": 501
        },
        "outputId": "04358966-8bee-4348-8781-239e38fbcc6f"
      },
      "execution_count": 11,
      "outputs": [
        {
          "output_type": "stream",
          "name": "stdout",
          "text": [
            "22475\n",
            "(25, 25, 3)\n",
            "[0]\n"
          ]
        },
        {
          "output_type": "execute_result",
          "data": {
            "text/plain": [
              "<matplotlib.image.AxesImage at 0x7fddb657de80>"
            ]
          },
          "metadata": {},
          "execution_count": 11
        },
        {
          "output_type": "display_data",
          "data": {
            "text/plain": [
              "<Figure size 640x480 with 1 Axes>"
            ],
            "image/png": "[encoded data removed]"
          },
          "metadata": {}
        }
      ]
    },
    {
      "cell_type": "code",
      "source": [
        "# Sensitivity of layer0 - not sensitive\n",
        "model.load_weights('my_model_weights_orig.h5')\n",
        "weights0 = model.get_weights()\n",
        "convL0 = weights0[0]\n",
        "print(convL0.shape)\n",
        "val0 = np.sum(np.abs(convL0), axis = (0,1,2))\n",
        "argsort0 = np.argsort(val0)\n",
        "sort0 = np.sort(val0)\n",
        "max0 = sort0[-1]\n",
        "norm0 = sort0/max0\n",
        "#plt.plot(np.arange(1, convL0.shape[3]+1, 1),norm0)\n",
        "#plt.show\n",
        "print(sort0/3)"
      ],
      "metadata": {
        "colab": {
          "base_uri": "https://localhost:8080/"
        },
        "id": "xHlsgw-dfzi1",
        "outputId": "8c60c6d2-a6fa-4369-97bd-ccc5d3555906"
      },
      "execution_count": 12,
      "outputs": [
        {
          "output_type": "stream",
          "name": "stdout",
          "text": [
            "(3, 3, 3, 32)\n",
            "[0.5540273  0.5698393  0.56991833 0.5719471  0.5839515  0.5948068\n",
            " 0.6070681  0.6089552  0.6220659  0.6248172  0.6276074  0.6414318\n",
            " 0.6748615  0.67659765 0.6803631  0.6894421  0.691196   0.69295615\n",
            " 0.699301   0.71389085 0.7172322  0.7175328  0.7309329  0.74355173\n",
            " 0.7492826  0.7511079  0.79570705 0.7997647  0.8159158  0.8171746\n",
            " 0.8788426  0.8880768 ]\n"
          ]
        }
      ]
    },
    {
      "cell_type": "code",
      "source": [
        "# Sensitivity of layer0 prune, no training - not sensitive\n",
        "n0 = convL0.shape[3]\n",
        "results0 = [0] *n0\n",
        "for count in range(n0):\n",
        "  c1zero = argsort0[count]\n",
        "  weights0[0][:,:,:,c1zero] = 0\n",
        "  weights0[1][c1zero] = 0\n",
        "  weights0[2][:,:,c1zero,:] = 0\n",
        "  model.set_weights(weights0)\n",
        "  results0[count] = model.evaluate(val_images, val_labels, batch_size=128)[1]\n",
        "plt.plot(np.arange(1, convL0.shape[3]+1, 1),results0)\n",
        "plt.show"
      ],
      "metadata": {
        "colab": {
          "base_uri": "https://localhost:8080/",
          "height": 1000
        },
        "id": "VRATuOeWd4hX",
        "outputId": "490a071d-d3c6-4599-e888-dd55b20ad118"
      },
      "execution_count": 13,
      "outputs": [
        {
          "output_type": "stream",
          "name": "stdout",
          "text": [
            "20/20 [==============================] - 0s 4ms/step - loss: 0.7197 - accuracy: 0.7236\n",
            "20/20 [==============================] - 0s 4ms/step - loss: 0.7601 - accuracy: 0.7022\n",
            "20/20 [==============================] - 0s 4ms/step - loss: 0.7607 - accuracy: 0.7018\n",
            "20/20 [==============================] - 0s 4ms/step - loss: 0.7684 - accuracy: 0.7050\n",
            "20/20 [==============================] - 0s 4ms/step - loss: 0.7976 - accuracy: 0.6923\n",
            "20/20 [==============================] - 0s 4ms/step - loss: 0.7927 - accuracy: 0.6927\n",
            "20/20 [==============================] - 0s 4ms/step - loss: 0.7784 - accuracy: 0.6966\n",
            "20/20 [==============================] - 0s 4ms/step - loss: 0.7975 - accuracy: 0.6899\n",
            "20/20 [==============================] - 0s 4ms/step - loss: 0.8298 - accuracy: 0.6764\n",
            "20/20 [==============================] - 0s 4ms/step - loss: 0.8776 - accuracy: 0.6543\n",
            "20/20 [==============================] - 0s 4ms/step - loss: 0.9568 - accuracy: 0.6277\n",
            "20/20 [==============================] - 0s 4ms/step - loss: 0.9944 - accuracy: 0.6269\n",
            "20/20 [==============================] - 0s 4ms/step - loss: 1.0756 - accuracy: 0.5913\n",
            "20/20 [==============================] - 0s 4ms/step - loss: 1.1689 - accuracy: 0.5533\n",
            "20/20 [==============================] - 0s 7ms/step - loss: 1.2458 - accuracy: 0.5331\n",
            "20/20 [==============================] - 0s 6ms/step - loss: 1.2804 - accuracy: 0.5180\n",
            "20/20 [==============================] - 0s 5ms/step - loss: 1.3260 - accuracy: 0.5097\n",
            "20/20 [==============================] - 0s 6ms/step - loss: 1.7352 - accuracy: 0.4349\n",
            "20/20 [==============================] - 0s 5ms/step - loss: 1.7390 - accuracy: 0.4075\n",
            "20/20 [==============================] - 0s 6ms/step - loss: 1.9713 - accuracy: 0.3564\n",
            "20/20 [==============================] - 0s 6ms/step - loss: 2.6113 - accuracy: 0.3050\n",
            "20/20 [==============================] - 0s 6ms/step - loss: 2.9062 - accuracy: 0.2760\n",
            "20/20 [==============================] - 0s 5ms/step - loss: 1.4333 - accuracy: 0.4226\n",
            "20/20 [==============================] - 0s 5ms/step - loss: 1.3571 - accuracy: 0.4467\n",
            "20/20 [==============================] - 0s 5ms/step - loss: 1.5048 - accuracy: 0.3826\n",
            "20/20 [==============================] - 0s 5ms/step - loss: 1.5055 - accuracy: 0.3715\n",
            "20/20 [==============================] - 0s 6ms/step - loss: 1.7083 - accuracy: 0.3410\n",
            "20/20 [==============================] - 0s 6ms/step - loss: 2.1049 - accuracy: 0.2226\n",
            "20/20 [==============================] - 0s 6ms/step - loss: 1.7936 - accuracy: 0.3081\n",
            "20/20 [==============================] - 0s 5ms/step - loss: 1.8753 - accuracy: 0.2424\n",
            "20/20 [==============================] - 0s 4ms/step - loss: 2.1728 - accuracy: 0.2051\n",
            "20/20 [==============================] - 0s 4ms/step - loss: 2.0002 - accuracy: 0.1925\n"
          ]
        },
        {
          "output_type": "execute_result",
          "data": {
            "text/plain": [
              "<function matplotlib.pyplot.show(close=None, block=None)>"
            ]
          },
          "metadata": {},
          "execution_count": 13
        },
        {
          "output_type": "display_data",
          "data": {
            "text/plain": [
              "<Figure size 640x480 with 1 Axes>"
            ],
            "image/png": "[encoded data removed]"
          },
          "metadata": {}
        }
      ]
    },
    {
      "cell_type": "code",
      "source": [
        "# Sensitivity of layer1 - sensitive\n",
        "model.load_weights('my_model_weights_orig.h5')\n",
        "weights1 = model.get_weights()\n",
        "convL1 = weights1[2]\n",
        "print(convL1.shape)\n",
        "val1 = np.sum(np.abs(convL1), axis = (0,1,2))\n",
        "argsort1 = np.argsort(val1)\n",
        "sort1 = np.sort(val1)\n",
        "max1 = sort1[-1]\n",
        "norm1 = sort1/max1\n",
        "#plt.plot(np.arange(1, convL1.shape[3]+1, 1),norm1)\n",
        "#plt.show()\n",
        "print(sort1/32)"
      ],
      "metadata": {
        "colab": {
          "base_uri": "https://localhost:8080/"
        },
        "id": "9k6LlOUSt-MQ",
        "outputId": "4e2101db-c8a7-4c4d-feae-2ed0d48b1152"
      },
      "execution_count": 14,
      "outputs": [
        {
          "output_type": "stream",
          "name": "stdout",
          "text": [
            "(3, 3, 32, 32)\n",
            "[4.2954286e-33 4.0447760e-01 4.8875156e-01 4.9634084e-01 4.9886793e-01\n",
            " 5.0033605e-01 5.0237846e-01 5.1371837e-01 5.1390177e-01 5.1507097e-01\n",
            " 5.1880538e-01 5.1951355e-01 5.2159715e-01 5.2358013e-01 5.2366513e-01\n",
            " 5.2572948e-01 5.2587301e-01 5.2639246e-01 5.2739626e-01 5.2746260e-01\n",
            " 5.3507525e-01 5.3533554e-01 5.3903067e-01 5.4337752e-01 5.5880284e-01\n",
            " 5.5954581e-01 5.6208313e-01 5.6706887e-01 5.6832957e-01 5.6921887e-01\n",
            " 5.7563937e-01 5.8512932e-01]\n"
          ]
        }
      ]
    },
    {
      "cell_type": "code",
      "source": [
        "# Sensitivity of layer1 prune, no training - sensitive\n",
        "n1 = convL1.shape[3]\n",
        "results1 = [0] *n1\n",
        "for count in range(n1):\n",
        "  c1zero = argsort1[count]\n",
        "  weights1[2][:,:,:,c1zero] = 0\n",
        "  weights1[3][c1zero] = 0\n",
        "  weights1[4][:,:,c1zero,:] = 0\n",
        "  model.set_weights(weights1)\n",
        "  results1[count] = model.evaluate(val_images, val_labels, batch_size=128)[1]\n",
        "plt.plot(np.arange(1, convL1.shape[3]+1, 1),results1)\n",
        "plt.show"
      ],
      "metadata": {
        "colab": {
          "base_uri": "https://localhost:8080/",
          "height": 1000
        },
        "id": "FywCdQTQq8Zu",
        "outputId": "b9eab02b-882e-4c85-cb64-c42c1505ef35"
      },
      "execution_count": 15,
      "outputs": [
        {
          "output_type": "stream",
          "name": "stdout",
          "text": [
            "20/20 [==============================] - 0s 4ms/step - loss: 0.7165 - accuracy: 0.7251\n",
            "20/20 [==============================] - 0s 4ms/step - loss: 0.7497 - accuracy: 0.7121\n",
            "20/20 [==============================] - 0s 5ms/step - loss: 0.7921 - accuracy: 0.6974\n",
            "20/20 [==============================] - 0s 5ms/step - loss: 0.7927 - accuracy: 0.6962\n",
            "20/20 [==============================] - 0s 5ms/step - loss: 0.7690 - accuracy: 0.7022\n",
            "20/20 [==============================] - 0s 4ms/step - loss: 0.8045 - accuracy: 0.6816\n",
            "20/20 [==============================] - 0s 5ms/step - loss: 0.8780 - accuracy: 0.6634\n",
            "20/20 [==============================] - 0s 4ms/step - loss: 0.9810 - accuracy: 0.6337\n",
            "20/20 [==============================] - 0s 4ms/step - loss: 1.0985 - accuracy: 0.6063\n",
            "20/20 [==============================] - 0s 4ms/step - loss: 1.0211 - accuracy: 0.6250\n",
            "20/20 [==============================] - 0s 4ms/step - loss: 0.9833 - accuracy: 0.6337\n",
            "20/20 [==============================] - 0s 5ms/step - loss: 0.9264 - accuracy: 0.6547\n",
            "20/20 [==============================] - 0s 5ms/step - loss: 0.9975 - accuracy: 0.6250\n",
            "20/20 [==============================] - 0s 4ms/step - loss: 1.4477 - accuracy: 0.5141\n",
            "20/20 [==============================] - 0s 5ms/step - loss: 1.3992 - accuracy: 0.5303\n",
            "20/20 [==============================] - 0s 4ms/step - loss: 2.6267 - accuracy: 0.3850\n",
            "20/20 [==============================] - 0s 4ms/step - loss: 2.5751 - accuracy: 0.3834\n",
            "20/20 [==============================] - 0s 5ms/step - loss: 2.7585 - accuracy: 0.3434\n",
            "20/20 [==============================] - 0s 4ms/step - loss: 2.6958 - accuracy: 0.3521\n",
            "20/20 [==============================] - 0s 4ms/step - loss: 2.5178 - accuracy: 0.3418\n",
            "20/20 [==============================] - 0s 5ms/step - loss: 2.5367 - accuracy: 0.3612\n",
            "20/20 [==============================] - 0s 4ms/step - loss: 2.4116 - accuracy: 0.3509\n",
            "20/20 [==============================] - 0s 5ms/step - loss: 2.5882 - accuracy: 0.3323\n",
            "20/20 [==============================] - 0s 5ms/step - loss: 2.8986 - accuracy: 0.2911\n",
            "20/20 [==============================] - 0s 4ms/step - loss: 2.9203 - accuracy: 0.2586\n",
            "20/20 [==============================] - 0s 5ms/step - loss: 3.0265 - accuracy: 0.2527\n",
            "20/20 [==============================] - 0s 4ms/step - loss: 3.4372 - accuracy: 0.2372\n",
            "20/20 [==============================] - 0s 4ms/step - loss: 3.0569 - accuracy: 0.2574\n",
            "20/20 [==============================] - 0s 4ms/step - loss: 2.8029 - accuracy: 0.2471\n",
            "20/20 [==============================] - 0s 4ms/step - loss: 2.6853 - accuracy: 0.2261\n",
            "20/20 [==============================] - 0s 4ms/step - loss: 2.9472 - accuracy: 0.2273\n",
            "20/20 [==============================] - 0s 5ms/step - loss: 2.6251 - accuracy: 0.2071\n"
          ]
        },
        {
          "output_type": "execute_result",
          "data": {
            "text/plain": [
              "<function matplotlib.pyplot.show(close=None, block=None)>"
            ]
          },
          "metadata": {},
          "execution_count": 15
        },
        {
          "output_type": "display_data",
          "data": {
            "text/plain": [
              "<Figure size 640x480 with 1 Axes>"
            ],
            "image/png": "[encoded data removed]"
          },
          "metadata": {}
        }
      ]
    },
    {
      "cell_type": "code",
      "source": [
        "# Sensitivity of layer2 - not sensitive\n",
        "model.load_weights('my_model_weights_orig.h5')\n",
        "weights2 = model.get_weights()\n",
        "convL2 = weights2[4]\n",
        "print(convL2.shape)\n",
        "val2 = np.sum(np.abs(convL2), axis = (0,1,2))\n",
        "argsort2 = np.argsort(val2)\n",
        "sort2 = np.sort(val2)\n",
        "max2 = sort2[-1]\n",
        "norm2 = sort2/max2\n",
        "#plt.plot(np.arange(1, convL2.shape[3]+1, 1),norm2)\n",
        "#plt.show()\n",
        "print(sort2/32)"
      ],
      "metadata": {
        "colab": {
          "base_uri": "https://localhost:8080/"
        },
        "id": "KxWCzAvnt-cG",
        "outputId": "87034bb6-1f99-4538-f08f-3c89f56d3a0b"
      },
      "execution_count": 16,
      "outputs": [
        {
          "output_type": "stream",
          "name": "stdout",
          "text": [
            "(3, 3, 32, 64)\n",
            "[0.3955293  0.40057057 0.4007143  0.4086272  0.40971014 0.41240248\n",
            " 0.41262233 0.41516536 0.4188437  0.42043224 0.42073745 0.42090097\n",
            " 0.42110795 0.42418832 0.42436856 0.42629942 0.42653877 0.42874667\n",
            " 0.43079683 0.43200463 0.4341775  0.43439022 0.43488786 0.4356954\n",
            " 0.43632835 0.43801516 0.43822694 0.43900326 0.439154   0.4443918\n",
            " 0.44447774 0.4452873  0.44543517 0.4464041  0.4473662  0.45037383\n",
            " 0.45121694 0.4552426  0.4567165  0.4582025  0.4611148  0.4623333\n",
            " 0.4629838  0.46397334 0.46418077 0.46587723 0.46781984 0.46852112\n",
            " 0.47465363 0.47515205 0.47589335 0.47760326 0.47782242 0.47799137\n",
            " 0.48050717 0.48194256 0.4835598  0.48816115 0.48875266 0.48905104\n",
            " 0.48973867 0.49421638 0.49681526 0.51648074]\n"
          ]
        }
      ]
    },
    {
      "cell_type": "code",
      "source": [
        "# Sensitivity of layer2 prune, no training - not sensitive\n",
        "n2 = convL2.shape[3]\n",
        "results2 = [0] *n2\n",
        "for count in range(n2):\n",
        "  c1zero = argsort2[count]\n",
        "  weights2[4][:,:,:,c1zero] = 0\n",
        "  weights2[5][c1zero] = 0\n",
        "  weights2[6][:,:,c1zero,:] = 0\n",
        "  model.set_weights(weights2)\n",
        "  results2[count] = model.evaluate(val_images, val_labels, batch_size=128)[1]\n",
        "plt.plot(np.arange(1, convL2.shape[3]+1, 1),results2)\n",
        "plt.show"
      ],
      "metadata": {
        "colab": {
          "base_uri": "https://localhost:8080/",
          "height": 1000
        },
        "id": "A3SJHcx2rOQU",
        "outputId": "8076f429-e7be-4ecf-d927-e26f0588692d"
      },
      "execution_count": 17,
      "outputs": [
        {
          "output_type": "stream",
          "name": "stdout",
          "text": [
            "20/20 [==============================] - 0s 4ms/step - loss: 0.7315 - accuracy: 0.7196\n",
            "20/20 [==============================] - 0s 4ms/step - loss: 0.7559 - accuracy: 0.7069\n",
            "20/20 [==============================] - 0s 5ms/step - loss: 0.7419 - accuracy: 0.7121\n",
            "20/20 [==============================] - 0s 4ms/step - loss: 0.7973 - accuracy: 0.6859\n",
            "20/20 [==============================] - 0s 5ms/step - loss: 0.8460 - accuracy: 0.6610\n",
            "20/20 [==============================] - 0s 4ms/step - loss: 0.8807 - accuracy: 0.6440\n",
            "20/20 [==============================] - 0s 5ms/step - loss: 0.9581 - accuracy: 0.6202\n",
            "20/20 [==============================] - 0s 4ms/step - loss: 0.9812 - accuracy: 0.6162\n",
            "20/20 [==============================] - 0s 5ms/step - loss: 0.9881 - accuracy: 0.6024\n",
            "20/20 [==============================] - 0s 5ms/step - loss: 1.0039 - accuracy: 0.5976\n",
            "20/20 [==============================] - 0s 5ms/step - loss: 1.0352 - accuracy: 0.5822\n",
            "20/20 [==============================] - 0s 6ms/step - loss: 1.1110 - accuracy: 0.5509\n",
            "20/20 [==============================] - 0s 6ms/step - loss: 1.1451 - accuracy: 0.5410\n",
            "20/20 [==============================] - 0s 6ms/step - loss: 1.1601 - accuracy: 0.5331\n",
            "20/20 [==============================] - 0s 6ms/step - loss: 1.1331 - accuracy: 0.5382\n",
            "20/20 [==============================] - 0s 6ms/step - loss: 1.2184 - accuracy: 0.5113\n",
            "20/20 [==============================] - 0s 6ms/step - loss: 1.2476 - accuracy: 0.4950\n",
            "20/20 [==============================] - 0s 5ms/step - loss: 1.2682 - accuracy: 0.4915\n",
            "20/20 [==============================] - 0s 5ms/step - loss: 1.2370 - accuracy: 0.4958\n",
            "20/20 [==============================] - 0s 6ms/step - loss: 1.2557 - accuracy: 0.5093\n",
            "20/20 [==============================] - 0s 6ms/step - loss: 1.3806 - accuracy: 0.5014\n",
            "20/20 [==============================] - 0s 5ms/step - loss: 1.3234 - accuracy: 0.4931\n",
            "20/20 [==============================] - 0s 6ms/step - loss: 1.2800 - accuracy: 0.5006\n",
            "20/20 [==============================] - 0s 5ms/step - loss: 1.3767 - accuracy: 0.4867\n",
            "20/20 [==============================] - 0s 5ms/step - loss: 1.5280 - accuracy: 0.4701\n",
            "20/20 [==============================] - 0s 4ms/step - loss: 1.6709 - accuracy: 0.4547\n",
            "20/20 [==============================] - 0s 4ms/step - loss: 1.5120 - accuracy: 0.4713\n",
            "20/20 [==============================] - 0s 4ms/step - loss: 1.5188 - accuracy: 0.4653\n",
            "20/20 [==============================] - 0s 4ms/step - loss: 1.4904 - accuracy: 0.4669\n",
            "20/20 [==============================] - 0s 5ms/step - loss: 1.6101 - accuracy: 0.4463\n",
            "20/20 [==============================] - 0s 4ms/step - loss: 1.6300 - accuracy: 0.4424\n",
            "20/20 [==============================] - 0s 4ms/step - loss: 1.4885 - accuracy: 0.4705\n",
            "20/20 [==============================] - 0s 4ms/step - loss: 1.5742 - accuracy: 0.4511\n",
            "20/20 [==============================] - 0s 4ms/step - loss: 1.6027 - accuracy: 0.4396\n",
            "20/20 [==============================] - 0s 5ms/step - loss: 1.7186 - accuracy: 0.4162\n",
            "20/20 [==============================] - 0s 5ms/step - loss: 1.8968 - accuracy: 0.4135\n",
            "20/20 [==============================] - 0s 4ms/step - loss: 1.8321 - accuracy: 0.4020\n",
            "20/20 [==============================] - 0s 4ms/step - loss: 1.7216 - accuracy: 0.4150\n",
            "20/20 [==============================] - 0s 5ms/step - loss: 1.7133 - accuracy: 0.3972\n",
            "20/20 [==============================] - 0s 4ms/step - loss: 1.5849 - accuracy: 0.4257\n",
            "20/20 [==============================] - 0s 4ms/step - loss: 1.6902 - accuracy: 0.4099\n",
            "20/20 [==============================] - 0s 4ms/step - loss: 1.5861 - accuracy: 0.4376\n",
            "20/20 [==============================] - 0s 4ms/step - loss: 1.6390 - accuracy: 0.4380\n",
            "20/20 [==============================] - 0s 4ms/step - loss: 1.6589 - accuracy: 0.4162\n",
            "20/20 [==============================] - 0s 5ms/step - loss: 1.6765 - accuracy: 0.3822\n",
            "20/20 [==============================] - 0s 4ms/step - loss: 1.6066 - accuracy: 0.3897\n",
            "20/20 [==============================] - 0s 5ms/step - loss: 1.6621 - accuracy: 0.3715\n",
            "20/20 [==============================] - 0s 4ms/step - loss: 1.6060 - accuracy: 0.3651\n",
            "20/20 [==============================] - 0s 4ms/step - loss: 1.7556 - accuracy: 0.3366\n",
            "20/20 [==============================] - 0s 4ms/step - loss: 1.9282 - accuracy: 0.2978\n",
            "20/20 [==============================] - 0s 5ms/step - loss: 2.1706 - accuracy: 0.2384\n",
            "20/20 [==============================] - 0s 4ms/step - loss: 2.0966 - accuracy: 0.2388\n",
            "20/20 [==============================] - 0s 4ms/step - loss: 2.3464 - accuracy: 0.2186\n",
            "20/20 [==============================] - 0s 5ms/step - loss: 2.5825 - accuracy: 0.2147\n",
            "20/20 [==============================] - 0s 6ms/step - loss: 2.4400 - accuracy: 0.2174\n",
            "20/20 [==============================] - 0s 5ms/step - loss: 2.2691 - accuracy: 0.2317\n",
            "20/20 [==============================] - 0s 4ms/step - loss: 2.6869 - accuracy: 0.2143\n",
            "20/20 [==============================] - 0s 4ms/step - loss: 2.2344 - accuracy: 0.2313\n",
            "20/20 [==============================] - 0s 5ms/step - loss: 2.1792 - accuracy: 0.2376\n",
            "20/20 [==============================] - 0s 5ms/step - loss: 1.8985 - accuracy: 0.2824\n",
            "20/20 [==============================] - 0s 4ms/step - loss: 1.7598 - accuracy: 0.2756\n",
            "20/20 [==============================] - 0s 5ms/step - loss: 1.7633 - accuracy: 0.2230\n",
            "20/20 [==============================] - 0s 5ms/step - loss: 1.7353 - accuracy: 0.2305\n",
            "20/20 [==============================] - 0s 4ms/step - loss: 1.8500 - accuracy: 0.1925\n"
          ]
        },
        {
          "output_type": "execute_result",
          "data": {
            "text/plain": [
              "<function matplotlib.pyplot.show(close=None, block=None)>"
            ]
          },
          "metadata": {},
          "execution_count": 17
        },
        {
          "output_type": "display_data",
          "data": {
            "text/plain": [
              "<Figure size 640x480 with 1 Axes>"
            ],
            "image/png": "[encoded data removed]"
          },
          "metadata": {}
        }
      ]
    },
    {
      "cell_type": "code",
      "source": [
        "# Sensitivity of layer3 - sensitive\n",
        "model.load_weights('my_model_weights_orig.h5')\n",
        "weights3 = model.get_weights()\n",
        "convL3 = weights3[6]\n",
        "print(convL3.shape)\n",
        "val3 = np.sum(np.abs(convL3), axis = (0,1,2))\n",
        "argsort3 = np.argsort(val3)\n",
        "sort3 = np.sort(val3)\n",
        "max3 = sort3[-1]\n",
        "norm3 = sort3/max3\n",
        "#plt.plot(np.arange(1, convL3.shape[3]+1, 1),norm3)\n",
        "#plt.show()\n",
        "print(sort3/64)"
      ],
      "metadata": {
        "colab": {
          "base_uri": "https://localhost:8080/"
        },
        "id": "wVkvCyEet-jL",
        "outputId": "9a3c0b42-cfd3-4ca9-b5f4-0e473e8fab50"
      },
      "execution_count": 18,
      "outputs": [
        {
          "output_type": "stream",
          "name": "stdout",
          "text": [
            "(3, 3, 64, 64)\n",
            "[4.2951329e-33 3.7609479e-01 3.8007015e-01 3.8224214e-01 3.8371363e-01\n",
            " 3.8461921e-01 3.8524398e-01 3.8528842e-01 3.8585740e-01 3.8621262e-01\n",
            " 3.8636366e-01 3.8684657e-01 3.8696200e-01 3.8782057e-01 3.8820386e-01\n",
            " 3.8834277e-01 3.8960406e-01 3.9056680e-01 3.9100331e-01 3.9232150e-01\n",
            " 3.9290959e-01 3.9342663e-01 3.9585298e-01 3.9603153e-01 3.9624405e-01\n",
            " 3.9813888e-01 4.0059957e-01 4.0100563e-01 4.0129349e-01 4.0140307e-01\n",
            " 4.0171695e-01 4.0210384e-01 4.0270713e-01 4.0275723e-01 4.0332958e-01\n",
            " 4.0375701e-01 4.0416077e-01 4.0424398e-01 4.0509412e-01 4.0636870e-01\n",
            " 4.0640724e-01 4.0657440e-01 4.0658018e-01 4.0713352e-01 4.0772673e-01\n",
            " 4.0784538e-01 4.0882829e-01 4.0904534e-01 4.1006768e-01 4.1011599e-01\n",
            " 4.1134849e-01 4.1149572e-01 4.1190892e-01 4.1380763e-01 4.1425666e-01\n",
            " 4.1436347e-01 4.1645423e-01 4.1844979e-01 4.2361829e-01 4.2365241e-01\n",
            " 4.2388541e-01 4.2471981e-01 4.2915207e-01 4.3521917e-01]\n"
          ]
        }
      ]
    },
    {
      "cell_type": "code",
      "source": [
        "# Sensitivity of layer3 prune, no training - sensitive\n",
        "n3 = convL3.shape[3]\n",
        "results3 = [0] *n3\n",
        "for count in range(n3):\n",
        "  c1zero = argsort3[count]\n",
        "  weights3[6][:,:,:,c1zero] = 0\n",
        "  weights3[7][c1zero] = 0\n",
        "  weights3[8][c1zero*16:16+c1zero*16,:] = 0\n",
        "  model.set_weights(weights3)\n",
        "  results3[count] = model.evaluate(val_images, val_labels, batch_size=128)[1]\n",
        "plt.plot(np.arange(1, convL3.shape[3]+1, 1),results3)\n",
        "plt.show"
      ],
      "metadata": {
        "id": "ichgLfK3rX6i",
        "colab": {
          "base_uri": "https://localhost:8080/",
          "height": 1000
        },
        "outputId": "5f9a911d-3f9f-49de-f0f9-782df6c9600f"
      },
      "execution_count": 19,
      "outputs": [
        {
          "output_type": "stream",
          "name": "stdout",
          "text": [
            "20/20 [==============================] - 0s 5ms/step - loss: 0.7176 - accuracy: 0.7244\n",
            "20/20 [==============================] - 0s 5ms/step - loss: 0.7208 - accuracy: 0.7240\n",
            "20/20 [==============================] - 0s 5ms/step - loss: 0.7265 - accuracy: 0.7244\n",
            "20/20 [==============================] - 0s 4ms/step - loss: 0.7389 - accuracy: 0.7152\n",
            "20/20 [==============================] - 0s 5ms/step - loss: 0.7493 - accuracy: 0.7164\n",
            "20/20 [==============================] - 0s 4ms/step - loss: 0.7631 - accuracy: 0.7073\n",
            "20/20 [==============================] - 0s 5ms/step - loss: 0.7603 - accuracy: 0.7073\n",
            "20/20 [==============================] - 0s 5ms/step - loss: 0.7646 - accuracy: 0.6978\n",
            "20/20 [==============================] - 0s 4ms/step - loss: 0.7721 - accuracy: 0.7018\n",
            "20/20 [==============================] - 0s 6ms/step - loss: 0.7814 - accuracy: 0.7018\n",
            "20/20 [==============================] - 0s 6ms/step - loss: 0.7738 - accuracy: 0.7081\n",
            "20/20 [==============================] - 0s 5ms/step - loss: 0.7978 - accuracy: 0.6931\n",
            "20/20 [==============================] - 0s 6ms/step - loss: 0.7958 - accuracy: 0.6974\n",
            "20/20 [==============================] - 0s 6ms/step - loss: 0.8112 - accuracy: 0.6943\n",
            "20/20 [==============================] - 0s 5ms/step - loss: 0.8231 - accuracy: 0.6923\n",
            "20/20 [==============================] - 0s 6ms/step - loss: 0.8385 - accuracy: 0.6879\n",
            "20/20 [==============================] - 0s 5ms/step - loss: 0.8524 - accuracy: 0.6879\n",
            "20/20 [==============================] - 0s 6ms/step - loss: 0.8612 - accuracy: 0.6828\n",
            "20/20 [==============================] - 0s 6ms/step - loss: 0.8779 - accuracy: 0.6752\n",
            "20/20 [==============================] - 0s 6ms/step - loss: 0.8942 - accuracy: 0.6630\n",
            "20/20 [==============================] - 0s 6ms/step - loss: 0.9009 - accuracy: 0.6661\n",
            "20/20 [==============================] - 0s 5ms/step - loss: 0.9201 - accuracy: 0.6519\n",
            "20/20 [==============================] - 0s 6ms/step - loss: 0.9324 - accuracy: 0.6491\n",
            "20/20 [==============================] - 0s 5ms/step - loss: 0.9328 - accuracy: 0.6467\n",
            "20/20 [==============================] - 0s 4ms/step - loss: 0.9720 - accuracy: 0.6273\n",
            "20/20 [==============================] - 0s 4ms/step - loss: 0.9926 - accuracy: 0.6150\n",
            "20/20 [==============================] - 0s 5ms/step - loss: 1.0077 - accuracy: 0.6067\n",
            "20/20 [==============================] - 0s 5ms/step - loss: 1.0073 - accuracy: 0.6091\n",
            "20/20 [==============================] - 0s 5ms/step - loss: 1.0005 - accuracy: 0.6190\n",
            "20/20 [==============================] - 0s 4ms/step - loss: 1.0297 - accuracy: 0.6091\n",
            "20/20 [==============================] - 0s 4ms/step - loss: 1.0326 - accuracy: 0.6071\n",
            "20/20 [==============================] - 0s 5ms/step - loss: 1.0421 - accuracy: 0.6059\n",
            "20/20 [==============================] - 0s 5ms/step - loss: 1.0446 - accuracy: 0.6127\n",
            "20/20 [==============================] - 0s 5ms/step - loss: 1.1093 - accuracy: 0.5846\n",
            "20/20 [==============================] - 0s 4ms/step - loss: 1.1332 - accuracy: 0.5770\n",
            "20/20 [==============================] - 0s 5ms/step - loss: 1.1466 - accuracy: 0.5727\n",
            "20/20 [==============================] - 0s 4ms/step - loss: 1.1575 - accuracy: 0.5707\n",
            "20/20 [==============================] - 0s 4ms/step - loss: 1.1813 - accuracy: 0.5564\n",
            "20/20 [==============================] - 0s 4ms/step - loss: 1.2284 - accuracy: 0.5208\n",
            "20/20 [==============================] - 0s 5ms/step - loss: 1.2396 - accuracy: 0.5259\n",
            "20/20 [==============================] - 0s 5ms/step - loss: 1.2564 - accuracy: 0.5133\n",
            "20/20 [==============================] - 0s 5ms/step - loss: 1.2589 - accuracy: 0.5295\n",
            "20/20 [==============================] - 0s 4ms/step - loss: 1.2907 - accuracy: 0.5113\n",
            "20/20 [==============================] - 0s 5ms/step - loss: 1.3333 - accuracy: 0.4875\n",
            "20/20 [==============================] - 0s 4ms/step - loss: 1.3467 - accuracy: 0.4800\n",
            "20/20 [==============================] - 0s 4ms/step - loss: 1.3706 - accuracy: 0.4689\n",
            "20/20 [==============================] - 0s 5ms/step - loss: 1.3795 - accuracy: 0.4697\n",
            "20/20 [==============================] - 0s 4ms/step - loss: 1.3783 - accuracy: 0.4685\n",
            "20/20 [==============================] - 0s 5ms/step - loss: 1.4039 - accuracy: 0.4424\n",
            "20/20 [==============================] - 0s 4ms/step - loss: 1.4442 - accuracy: 0.4040\n",
            "20/20 [==============================] - 0s 4ms/step - loss: 1.4940 - accuracy: 0.3723\n",
            "20/20 [==============================] - 0s 4ms/step - loss: 1.4987 - accuracy: 0.3655\n",
            "20/20 [==============================] - 0s 5ms/step - loss: 1.4965 - accuracy: 0.3695\n",
            "20/20 [==============================] - 0s 5ms/step - loss: 1.5264 - accuracy: 0.3382\n",
            "20/20 [==============================] - 0s 4ms/step - loss: 1.5449 - accuracy: 0.3046\n",
            "20/20 [==============================] - 0s 5ms/step - loss: 1.5715 - accuracy: 0.2879\n",
            "20/20 [==============================] - 0s 5ms/step - loss: 1.6117 - accuracy: 0.2451\n",
            "20/20 [==============================] - 0s 4ms/step - loss: 1.6149 - accuracy: 0.2483\n",
            "20/20 [==============================] - 0s 5ms/step - loss: 1.6527 - accuracy: 0.2190\n",
            "20/20 [==============================] - 0s 5ms/step - loss: 1.6737 - accuracy: 0.2194\n",
            "20/20 [==============================] - 0s 5ms/step - loss: 1.6823 - accuracy: 0.2166\n",
            "20/20 [==============================] - 0s 4ms/step - loss: 1.7020 - accuracy: 0.1980\n",
            "20/20 [==============================] - 0s 5ms/step - loss: 1.7064 - accuracy: 0.1925\n",
            "20/20 [==============================] - 0s 4ms/step - loss: 1.7064 - accuracy: 0.1925\n"
          ]
        },
        {
          "output_type": "execute_result",
          "data": {
            "text/plain": [
              "<function matplotlib.pyplot.show(close=None, block=None)>"
            ]
          },
          "metadata": {},
          "execution_count": 19
        },
        {
          "output_type": "display_data",
          "data": {
            "text/plain": [
              "<Figure size 640x480 with 1 Axes>"
            ],
            "image/png": "[encoded data removed]"
          },
          "metadata": {}
        }
      ]
    },
    {
      "cell_type": "code",
      "source": [
        "def mask(model,layer, idxs):\n",
        "  weights = model.get_weights()\n",
        "  maskedtf = np.ones(weights[layer].shape)\n",
        "  if(layer % 2 == 0 and layer < 8 ):\n",
        "    for i in idxs[int(layer/2)]:\n",
        "      maskedtf[:,:,:,i] = 0\n",
        "    return maskedtf\n",
        "  elif (layer % 2 == 1 and layer < 8 ):\n",
        "    for i in idxs[int(layer/2)]:\n",
        "      maskedtf[i] = 0\n",
        "    return maskedtf\n",
        "  elif (layer == 8):\n",
        "    for i in idxs[3]:\n",
        "      maskedtf[i*16:16+i*16,:] = 0\n",
        "    return maskedtf\n",
        "  return maskedtf\n",
        "\n",
        "def get_sparsity(model):\n",
        "  num_zero = sum([(l == 0).sum() for l in model.get_weights()])\n",
        "  total = np.sum([np.prod(v.shape) for v in model.get_weights()])\n",
        "  return num_zero / total\n"
      ],
      "metadata": {
        "id": "GXg3YVkbptf0"
      },
      "execution_count": 23,
      "outputs": []
    },
    {
      "cell_type": "code",
      "source": [
        "model.load_weights('my_model_weights_orig.h5')\n",
        "\n",
        "opt=keras.optimizers.Adam(learning_rate=0.0005, weight_decay=1e-6)\n",
        "loss=tf.keras.losses.SparseCategoricalCrossentropy(from_logits=False)\n",
        "train_acc_metric = keras.metrics.SparseCategoricalAccuracy()\n",
        "train_labels_flt = train_labels.astype(np.float32)\n",
        "train_dataset = tf.data.Dataset.from_tensor_slices((train_images, train_labels_flt))\n",
        "train_dataloader = train_dataset.shuffle(buffer_size=len(train_labels), reshuffle_each_iteration=True).batch(32)\n",
        "idxs = [[],[],[],[]]\n",
        "pruned0 = 0\n",
        "pruned1 = 0\n",
        "pruned2 = 0\n",
        "pruned3 = 0\n",
        "tracked_acc = [] \n",
        "tracked_sparsity = []\n",
        "#prune 50 filters total\n",
        "for it in range(10):\n",
        "  t1 = time.time()\n",
        "\n",
        "  print(\"iteration: \", it)\n",
        "  itWeights = model.get_weights()\n",
        "  #prune 5 filters at a time\n",
        "  for prune in range(5):\n",
        "\n",
        "    if(pruned0 == 28):\n",
        "      sort0[pruned0] = 100\n",
        "    else:\n",
        "      val0 = np.sum(np.abs(itWeights[0]), axis = (0,1,2))\n",
        "      argsort0 = np.argsort(val0)\n",
        "      sort0 = np.sort(val0/3)\n",
        "    if(pruned1 == 28):\n",
        "      sort1[pruned1] = 100\n",
        "    else:\n",
        "      val1 = np.sum(np.abs(itWeights[2]), axis = (0,1,2))\n",
        "      argsort1 = np.argsort(val1)\n",
        "      sort1 = np.sort(val1/32)\n",
        "    if(pruned2 == 48):\n",
        "      sort2[pruned2] = 100\n",
        "    else:\n",
        "      val2 = np.sum(np.abs(itWeights[4]), axis = (0,1,2))\n",
        "      argsort2 = np.argsort(val2)\n",
        "      sort2 = np.sort(val2/32)\n",
        "    if(pruned3 == 48):\n",
        "      sort3[pruned3] = 100\n",
        "    else:\n",
        "      val3 = np.sum(np.abs(itWeights[6]), axis = (0,1,2))\n",
        "      argsort3 = np.argsort(val3)\n",
        "      sort3 = np.sort(val3/64)\n",
        "\n",
        "    if(sort0[pruned0] < sort1[pruned1] and sort0[pruned0] < sort2[pruned2] and sort0[pruned0] < sort3[pruned3]):\n",
        "      idxs[0].append(pruned0)\n",
        "      itWeights[0][:,:,:,pruned0] = 0\n",
        "      itWeights[1][pruned0] = 0\n",
        "      itWeights[2][:,:,pruned0,:] = 0\n",
        "      pruned0 += 1\n",
        "      if(pruned1 != 28):\n",
        "        val1 = np.sum(np.abs(itWeights[2]), axis = (0,1,2))\n",
        "        argsort1 = np.argsort(val1)\n",
        "        sort1 = np.sort(val1/32)\n",
        "    elif(sort1[pruned1] < sort0[pruned0] and sort1[pruned1] < sort2[pruned2] and sort1[pruned1] < sort3[pruned3]):\n",
        "      idxs[1].append(pruned1)\n",
        "      itWeights[2][:,:,:,pruned1] = 0\n",
        "      itWeights[3][pruned1] = 0\n",
        "      itWeights[4][:,:,pruned1,:] = 0\n",
        "      pruned1 += 1\n",
        "      if(pruned2 != 48):\n",
        "        val2 = np.sum(np.abs(itWeights[4]), axis = (0,1,2))\n",
        "        argsort2 = np.argsort(val2)\n",
        "        sort2 = np.sort(val2/32)\n",
        "    elif(sort2[pruned2] < sort0[pruned0] and sort2[pruned2] < sort1[pruned1] and sort2[pruned2] < sort3[pruned3]):\n",
        "      idxs[2].append(pruned2)\n",
        "      itWeights[4][:,:,:,pruned2] = 0\n",
        "      itWeights[5][pruned2] = 0\n",
        "      itWeights[6][:,:,pruned2,:] = 0\n",
        "      pruned2 += 1\n",
        "      if(pruned3 != 48):\n",
        "        val3 = np.sum(np.abs(itWeights[6]), axis = (0,1,2))\n",
        "        argsort3 = np.argsort(val3)\n",
        "        sort3 = np.sort(val3/64)\n",
        "    elif(sort3[pruned3] < sort0[pruned0] and sort3[pruned3] < sort1[pruned1] and sort3[pruned3] < sort2[pruned2]):\n",
        "      idxs[3].append(pruned3)\n",
        "      itWeights[6][:,:,:,pruned3] = 0\n",
        "      itWeights[7][pruned3] = 0\n",
        "      itWeights[8][pruned3*16:16+pruned3*16,:] = 0\n",
        "      pruned3 += 1\n",
        "\n",
        "  model.set_weights(itWeights)\n",
        "  t2 = time.time()\n",
        "  print(\"pruning time:\",t2-t1)\n",
        "\n",
        "  masked = [mask(model,i,idxs) for i in range(len(itWeights))] \n",
        "  t21 = time.time()\n",
        "  print(\"mask time:\",t21-t2)\n",
        "  for epoch in range(5):\n",
        "      for step, (data, target) in enumerate(train_dataloader):\n",
        "          with tf.GradientTape() as tape:\n",
        "              out = model(data, training=True) # proba after softmax\n",
        "              loss_value = loss(target, out)\n",
        "          gradients = tape.gradient(loss_value,model.trainable_weights)\n",
        "          masked_gradients = [tf.math.multiply(masked[i],gradients[i]) for i in range(len(gradients))]\n",
        "          opt.apply_gradients(zip(masked_gradients, model.trainable_weights))\n",
        "          train_acc_metric.update_state(target, out)\n",
        "      train_acc = train_acc_metric.result()\n",
        "      print(f\"Epoch {epoch}, Train Acc {train_acc:.3f}.\")\n",
        "      train_acc_metric.reset_states()\n",
        "  \n",
        "  model.save_weights(f\"my_model_weights_{it}.h5\")\n",
        "  t3 = time.time()\n",
        "  print(\"retraining time:\",t3-t2)\n",
        "\n",
        "  # eval\n",
        "  model.compile(opt, loss, metrics=['accuracy'])\n",
        "  results = model.evaluate(val_images, val_labels, batch_size=128) # [loss, acc]\n",
        "  tracked_acc.append(results[1])\n",
        "  sparsity = get_sparsity(model)\n",
        "  tracked_sparsity.append(sparsity)\n",
        "  print(f'Iter: {it}, Acc: {results[1]:.3f}, Sparsity: {sparsity:.3f}')"
      ],
      "metadata": {
        "colab": {
          "base_uri": "https://localhost:8080/"
        },
        "id": "1n70o2w0dvpL",
        "outputId": "64369de0-c545-4802-fb29-9f83117466a2"
      },
      "execution_count": 25,
      "outputs": [
        {
          "output_type": "stream",
          "name": "stdout",
          "text": [
            "iteration:  0\n",
            "pruning time: 0.013259410858154297\n",
            "mask time: 0.05108952522277832\n",
            "Epoch 0, Train Acc 0.711.\n",
            "Epoch 1, Train Acc 0.718.\n",
            "Epoch 2, Train Acc 0.730.\n",
            "Epoch 3, Train Acc 0.741.\n",
            "Epoch 4, Train Acc 0.749.\n",
            "retraining time: 188.10876870155334\n",
            "20/20 [==============================] - 0s 5ms/step - loss: 0.7646 - accuracy: 0.7046\n",
            "Iter: 0, Acc: 0.705, Sparsity: 0.074\n",
            "iteration:  1\n",
            "pruning time: 0.01215219497680664\n",
            "mask time: 0.06573057174682617\n",
            "Epoch 0, Train Acc 0.736.\n",
            "Epoch 1, Train Acc 0.745.\n",
            "Epoch 2, Train Acc 0.757.\n",
            "Epoch 3, Train Acc 0.763.\n",
            "Epoch 4, Train Acc 0.773.\n",
            "retraining time: 161.09174990653992\n",
            "20/20 [==============================] - 0s 4ms/step - loss: 0.7205 - accuracy: 0.7331\n",
            "Iter: 1, Acc: 0.733, Sparsity: 0.079\n",
            "iteration:  2\n",
            "pruning time: 0.011830568313598633\n",
            "mask time: 0.05249810218811035\n",
            "Epoch 0, Train Acc 0.766.\n",
            "Epoch 1, Train Acc 0.771.\n",
            "Epoch 2, Train Acc 0.778.\n",
            "Epoch 3, Train Acc 0.785.\n",
            "Epoch 4, Train Acc 0.791.\n",
            "retraining time: 187.14707922935486\n",
            "20/20 [==============================] - 0s 4ms/step - loss: 0.7327 - accuracy: 0.7228\n",
            "Iter: 2, Acc: 0.723, Sparsity: 0.079\n",
            "iteration:  3\n",
            "pruning time: 0.01218724250793457\n",
            "mask time: 0.052258968353271484\n",
            "Epoch 0, Train Acc 0.768.\n",
            "Epoch 1, Train Acc 0.774.\n",
            "Epoch 2, Train Acc 0.783.\n",
            "Epoch 3, Train Acc 0.782.\n",
            "Epoch 4, Train Acc 0.789.\n",
            "retraining time: 160.08870196342468\n",
            "20/20 [==============================] - 0s 5ms/step - loss: 0.7403 - accuracy: 0.7236\n",
            "Iter: 3, Acc: 0.724, Sparsity: 0.086\n",
            "iteration:  4\n",
            "pruning time: 0.012148141860961914\n",
            "mask time: 0.05603671073913574\n",
            "Epoch 0, Train Acc 0.759.\n",
            "Epoch 1, Train Acc 0.768.\n",
            "Epoch 2, Train Acc 0.772.\n",
            "Epoch 3, Train Acc 0.777.\n",
            "Epoch 4, Train Acc 0.781.\n",
            "retraining time: 178.22654366493225\n",
            "20/20 [==============================] - 0s 5ms/step - loss: 0.7294 - accuracy: 0.7299\n",
            "Iter: 4, Acc: 0.730, Sparsity: 0.093\n",
            "iteration:  5\n",
            "pruning time: 0.017291545867919922\n",
            "mask time: 0.05471014976501465\n",
            "Epoch 0, Train Acc 0.752.\n",
            "Epoch 1, Train Acc 0.760.\n",
            "Epoch 2, Train Acc 0.760.\n",
            "Epoch 3, Train Acc 0.768.\n",
            "Epoch 4, Train Acc 0.775.\n",
            "retraining time: 167.45266270637512\n",
            "20/20 [==============================] - 0s 5ms/step - loss: 0.7238 - accuracy: 0.7335\n",
            "Iter: 5, Acc: 0.733, Sparsity: 0.106\n",
            "iteration:  6\n",
            "pruning time: 0.01260828971862793\n",
            "mask time: 0.053328752517700195\n",
            "Epoch 0, Train Acc 0.733.\n",
            "Epoch 1, Train Acc 0.742.\n",
            "Epoch 2, Train Acc 0.751.\n",
            "Epoch 3, Train Acc 0.750.\n",
            "Epoch 4, Train Acc 0.753.\n",
            "retraining time: 168.42852187156677\n",
            "20/20 [==============================] - 0s 4ms/step - loss: 0.8107 - accuracy: 0.6931\n",
            "Iter: 6, Acc: 0.693, Sparsity: 0.119\n",
            "iteration:  7\n",
            "pruning time: 0.018707275390625\n",
            "mask time: 0.05330657958984375\n",
            "Epoch 0, Train Acc 0.704.\n",
            "Epoch 1, Train Acc 0.714.\n",
            "Epoch 2, Train Acc 0.719.\n",
            "Epoch 3, Train Acc 0.720.\n",
            "Epoch 4, Train Acc 0.720.\n",
            "retraining time: 169.8307328224182\n",
            "20/20 [==============================] - 0s 5ms/step - loss: 0.7760 - accuracy: 0.7038\n",
            "Iter: 7, Acc: 0.704, Sparsity: 0.131\n",
            "iteration:  8\n",
            "pruning time: 0.012419700622558594\n",
            "mask time: 0.05327320098876953\n",
            "Epoch 0, Train Acc 0.675.\n",
            "Epoch 1, Train Acc 0.686.\n",
            "Epoch 2, Train Acc 0.692.\n",
            "Epoch 3, Train Acc 0.696.\n",
            "Epoch 4, Train Acc 0.694.\n",
            "retraining time: 165.0212414264679\n",
            "20/20 [==============================] - 0s 5ms/step - loss: 0.8221 - accuracy: 0.6871\n",
            "Iter: 8, Acc: 0.687, Sparsity: 0.141\n",
            "iteration:  9\n",
            "pruning time: 0.011788368225097656\n",
            "mask time: 0.05241656303405762\n",
            "Epoch 0, Train Acc 0.644.\n",
            "Epoch 1, Train Acc 0.665.\n",
            "Epoch 2, Train Acc 0.671.\n",
            "Epoch 3, Train Acc 0.673.\n",
            "Epoch 4, Train Acc 0.680.\n",
            "retraining time: 170.45144128799438\n",
            "20/20 [==============================] - 0s 5ms/step - loss: 0.8485 - accuracy: 0.6844\n",
            "Iter: 9, Acc: 0.684, Sparsity: 0.159\n"
          ]
        }
      ]
    },
    {
      "cell_type": "code",
      "source": [
        "#prune 50 filters total\n",
        "for it in range(10,20):\n",
        "  t1 = time.time()\n",
        "\n",
        "  print(\"iteration: \", it)\n",
        "  itWeights = model.get_weights()\n",
        "  #prune 5 filters at a time\n",
        "  for prune in range(5):\n",
        "\n",
        "    if(pruned0 == 28):\n",
        "      sort0[pruned0] = 100\n",
        "    else:\n",
        "      val0 = np.sum(np.abs(itWeights[0]), axis = (0,1,2))\n",
        "      argsort0 = np.argsort(val0)\n",
        "      sort0 = np.sort(val0/3)\n",
        "    if(pruned1 == 28):\n",
        "      sort1[pruned1] = 100\n",
        "    else:\n",
        "      val1 = np.sum(np.abs(itWeights[2]), axis = (0,1,2))\n",
        "      argsort1 = np.argsort(val1)\n",
        "      sort1 = np.sort(val1/32)\n",
        "    if(pruned2 == 48):\n",
        "      sort2[pruned2] = 100\n",
        "    else:\n",
        "      val2 = np.sum(np.abs(itWeights[4]), axis = (0,1,2))\n",
        "      argsort2 = np.argsort(val2)\n",
        "      sort2 = np.sort(val2/32)\n",
        "    if(pruned3 == 48):\n",
        "      sort3[pruned3] = 100\n",
        "    else:\n",
        "      val3 = np.sum(np.abs(itWeights[6]), axis = (0,1,2))\n",
        "      argsort3 = np.argsort(val3)\n",
        "      sort3 = np.sort(val3/64)\n",
        "\n",
        "    if(sort0[pruned0] < sort1[pruned1] and sort0[pruned0] < sort2[pruned2] and sort0[pruned0] < sort3[pruned3]):\n",
        "      idxs[0].append(pruned0)\n",
        "      itWeights[0][:,:,:,pruned0] = 0\n",
        "      itWeights[1][pruned0] = 0\n",
        "      itWeights[2][:,:,pruned0,:] = 0\n",
        "      pruned0 += 1\n",
        "      if(pruned1 != 28):\n",
        "        val1 = np.sum(np.abs(itWeights[2]), axis = (0,1,2))\n",
        "        argsort1 = np.argsort(val1)\n",
        "        sort1 = np.sort(val1/32)\n",
        "    elif(sort1[pruned1] < sort0[pruned0] and sort1[pruned1] < sort2[pruned2] and sort1[pruned1] < sort3[pruned3]):\n",
        "      idxs[1].append(pruned1)\n",
        "      itWeights[2][:,:,:,pruned1] = 0\n",
        "      itWeights[3][pruned1] = 0\n",
        "      itWeights[4][:,:,pruned1,:] = 0\n",
        "      pruned1 += 1\n",
        "      if(pruned2 != 48):\n",
        "        val2 = np.sum(np.abs(itWeights[4]), axis = (0,1,2))\n",
        "        argsort2 = np.argsort(val2)\n",
        "        sort2 = np.sort(val2/32)\n",
        "    elif(sort2[pruned2] < sort0[pruned0] and sort2[pruned2] < sort1[pruned1] and sort2[pruned2] < sort3[pruned3]):\n",
        "      idxs[2].append(pruned2)\n",
        "      itWeights[4][:,:,:,pruned2] = 0\n",
        "      itWeights[5][pruned2] = 0\n",
        "      itWeights[6][:,:,pruned2,:] = 0\n",
        "      pruned2 += 1\n",
        "      if(pruned3 != 48):\n",
        "        val3 = np.sum(np.abs(itWeights[6]), axis = (0,1,2))\n",
        "        argsort3 = np.argsort(val3)\n",
        "        sort3 = np.sort(val3/64)\n",
        "    elif(sort3[pruned3] < sort0[pruned0] and sort3[pruned3] < sort1[pruned1] and sort3[pruned3] < sort2[pruned2]):\n",
        "      idxs[3].append(pruned3)\n",
        "      itWeights[6][:,:,:,pruned3] = 0\n",
        "      itWeights[7][pruned3] = 0\n",
        "      itWeights[8][pruned3*16:16+pruned3*16,:] = 0\n",
        "      pruned3 += 1\n",
        "\n",
        "  model.set_weights(itWeights)\n",
        "  t2 = time.time()\n",
        "  print(\"pruning time:\",t2-t1)\n",
        "\n",
        "  masked = [mask(model,i,idxs) for i in range(len(itWeights))] \n",
        "  t21 = time.time()\n",
        "  print(\"mask time:\",t21-t2)\n",
        "  for epoch in range(5):\n",
        "      for step, (data, target) in enumerate(train_dataloader):\n",
        "          with tf.GradientTape() as tape:\n",
        "              out = model(data, training=True) # proba after softmax\n",
        "              loss_value = loss(target, out)\n",
        "          gradients = tape.gradient(loss_value,model.trainable_weights)\n",
        "          masked_gradients = [tf.math.multiply(masked[i],gradients[i]) for i in range(len(gradients))]\n",
        "          opt.apply_gradients(zip(masked_gradients, model.trainable_weights))\n",
        "          train_acc_metric.update_state(target, out)\n",
        "      train_acc = train_acc_metric.result()\n",
        "      print(f\"Epoch {epoch}, Train Acc {train_acc:.3f}.\")\n",
        "      train_acc_metric.reset_states()\n",
        "  \n",
        "  model.save_weights(f\"my_model_weights_{it}.h5\")\n",
        "  t3 = time.time()\n",
        "  print(\"retraining time:\",t3-t2)\n",
        "\n",
        "  # eval\n",
        "  model.compile(opt, loss, metrics=['accuracy'])\n",
        "  results = model.evaluate(val_images, val_labels, batch_size=128) # [loss, acc]\n",
        "  tracked_acc.append(results[1])\n",
        "  sparsity = get_sparsity(model)\n",
        "  tracked_sparsity.append(sparsity)\n",
        "  print(f'Iter: {it}, Acc: {results[1]:.3f}, Sparsity: {sparsity:.3f}')"
      ],
      "metadata": {
        "colab": {
          "base_uri": "https://localhost:8080/"
        },
        "id": "uv9o8aTFHqdQ",
        "outputId": "1d78b4c8-88f7-437b-e74c-f4fa167a5472"
      },
      "execution_count": 26,
      "outputs": [
        {
          "output_type": "stream",
          "name": "stdout",
          "text": [
            "iteration:  10\n",
            "pruning time: 0.0150604248046875\n",
            "mask time: 0.05165672302246094\n",
            "Epoch 0, Train Acc 0.663.\n",
            "Epoch 1, Train Acc 0.672.\n",
            "Epoch 2, Train Acc 0.672.\n",
            "Epoch 3, Train Acc 0.677.\n",
            "Epoch 4, Train Acc 0.678.\n",
            "retraining time: 167.87076592445374\n",
            "20/20 [==============================] - 0s 5ms/step - loss: 0.8550 - accuracy: 0.6760\n",
            "Iter: 10, Acc: 0.676, Sparsity: 0.166\n",
            "iteration:  11\n",
            "pruning time: 0.01173257827758789\n",
            "mask time: 0.056139469146728516\n",
            "Epoch 0, Train Acc 0.650.\n",
            "Epoch 1, Train Acc 0.659.\n",
            "Epoch 2, Train Acc 0.662.\n",
            "Epoch 3, Train Acc 0.667.\n",
            "Epoch 4, Train Acc 0.668.\n",
            "retraining time: 166.62863993644714\n",
            "20/20 [==============================] - 0s 5ms/step - loss: 0.8495 - accuracy: 0.6705\n",
            "Iter: 11, Acc: 0.670, Sparsity: 0.166\n",
            "iteration:  12\n",
            "pruning time: 0.012077569961547852\n",
            "mask time: 0.05105185508728027\n",
            "Epoch 0, Train Acc 0.635.\n",
            "Epoch 1, Train Acc 0.642.\n",
            "Epoch 2, Train Acc 0.648.\n",
            "Epoch 3, Train Acc 0.654.\n",
            "Epoch 4, Train Acc 0.658.\n",
            "retraining time: 157.39645648002625\n",
            "20/20 [==============================] - 0s 4ms/step - loss: 0.8871 - accuracy: 0.6566\n",
            "Iter: 12, Acc: 0.657, Sparsity: 0.166\n",
            "iteration:  13\n",
            "pruning time: 0.012598991394042969\n",
            "mask time: 0.05542778968811035\n",
            "Epoch 0, Train Acc 0.597.\n",
            "Epoch 1, Train Acc 0.613.\n",
            "Epoch 2, Train Acc 0.621.\n",
            "Epoch 3, Train Acc 0.623.\n",
            "Epoch 4, Train Acc 0.629.\n",
            "retraining time: 158.9104118347168\n",
            "20/20 [==============================] - 0s 4ms/step - loss: 0.9159 - accuracy: 0.6475\n",
            "Iter: 13, Acc: 0.648, Sparsity: 0.168\n",
            "iteration:  14\n",
            "pruning time: 0.011365175247192383\n",
            "mask time: 0.04927706718444824\n",
            "Epoch 0, Train Acc 0.626.\n",
            "Epoch 1, Train Acc 0.635.\n",
            "Epoch 2, Train Acc 0.634.\n",
            "Epoch 3, Train Acc 0.639.\n",
            "Epoch 4, Train Acc 0.643.\n",
            "retraining time: 178.75885915756226\n",
            "20/20 [==============================] - 0s 4ms/step - loss: 0.9147 - accuracy: 0.6503\n",
            "Iter: 14, Acc: 0.650, Sparsity: 0.171\n",
            "iteration:  15\n",
            "pruning time: 0.011946439743041992\n",
            "mask time: 0.05995821952819824\n",
            "Epoch 0, Train Acc 0.633.\n",
            "Epoch 1, Train Acc 0.640.\n",
            "Epoch 2, Train Acc 0.640.\n",
            "Epoch 3, Train Acc 0.643.\n",
            "Epoch 4, Train Acc 0.645.\n",
            "retraining time: 160.37662386894226\n",
            "20/20 [==============================] - 0s 5ms/step - loss: 0.8985 - accuracy: 0.6590\n",
            "Iter: 15, Acc: 0.659, Sparsity: 0.175\n",
            "iteration:  16\n",
            "pruning time: 0.014197826385498047\n",
            "mask time: 0.05548691749572754\n",
            "Epoch 0, Train Acc 0.639.\n",
            "Epoch 1, Train Acc 0.643.\n",
            "Epoch 2, Train Acc 0.646.\n",
            "Epoch 3, Train Acc 0.643.\n",
            "Epoch 4, Train Acc 0.650.\n",
            "retraining time: 166.93952655792236\n",
            "20/20 [==============================] - 0s 5ms/step - loss: 0.9100 - accuracy: 0.6388\n",
            "Iter: 16, Acc: 0.639, Sparsity: 0.178\n",
            "iteration:  17\n",
            "pruning time: 0.011902332305908203\n",
            "mask time: 0.04931926727294922\n",
            "Epoch 0, Train Acc 0.643.\n",
            "Epoch 1, Train Acc 0.646.\n",
            "Epoch 2, Train Acc 0.645.\n",
            "Epoch 3, Train Acc 0.647.\n",
            "Epoch 4, Train Acc 0.649.\n",
            "retraining time: 171.02000331878662\n",
            "20/20 [==============================] - 0s 5ms/step - loss: 0.9285 - accuracy: 0.6400\n",
            "Iter: 17, Acc: 0.640, Sparsity: 0.182\n",
            "iteration:  18\n",
            "pruning time: 0.01286625862121582\n",
            "mask time: 0.060067176818847656\n",
            "Epoch 0, Train Acc 0.611.\n",
            "Epoch 1, Train Acc 0.609.\n",
            "Epoch 2, Train Acc 0.615.\n",
            "Epoch 3, Train Acc 0.619.\n",
            "Epoch 4, Train Acc 0.622.\n",
            "retraining time: 166.31309270858765\n",
            "20/20 [==============================] - 0s 5ms/step - loss: 0.9695 - accuracy: 0.6166\n",
            "Iter: 18, Acc: 0.617, Sparsity: 0.185\n",
            "iteration:  19\n",
            "pruning time: 0.011339902877807617\n",
            "mask time: 0.05018019676208496\n",
            "Epoch 0, Train Acc 0.615.\n",
            "Epoch 1, Train Acc 0.620.\n",
            "Epoch 2, Train Acc 0.619.\n",
            "Epoch 3, Train Acc 0.622.\n",
            "Epoch 4, Train Acc 0.624.\n",
            "retraining time: 164.38065147399902\n",
            "Epoch 4, Train Acc 0.624.\n",
            "retraining time: 164.38065147399902\n",
            "20/20 [==============================] - 0s 5ms/step - loss: 0.9547 - accuracy: 0.6238\n",
            "20/20 [==============================] - 0s 5ms/step - loss: 0.9547 - accuracy: 0.6238\n",
            "Iter: 19, Acc: 0.624, Sparsity: 0.188\n",
            "Iter: 19, Acc: 0.624, Sparsity: 0.188\n"
          ]
        }
      ]
    },
    {
      "cell_type": "code",
      "source": [
        "print(tracked_acc)\n",
        "print(tracked_sparsity)"
      ],
      "metadata": {
        "colab": {
          "base_uri": "https://localhost:8080/",
          "height": 133
        },
        "id": "WgtxX4ZYP2MU",
        "outputId": "4b46f286-6359-40a3-bbf7-e27a8a8748fb"
      },
      "execution_count": 37,
      "outputs": [
        {
          "output_type": "error",
          "ename": "SyntaxError",
          "evalue": "ignored",
          "traceback": [
            "\u001b[0;36m  File \u001b[0;32m\"<ipython-input-37-58a3fc43e1a2>\"\u001b[0;36m, line \u001b[0;32m1\u001b[0m\n\u001b[0;31m    print({tracked_acc:3f})\u001b[0m\n\u001b[0m                        ^\u001b[0m\n\u001b[0;31mSyntaxError\u001b[0m\u001b[0;31m:\u001b[0m invalid syntax\n"
          ]
        }
      ]
    },
    {
      "cell_type": "code",
      "source": [
        "round_acc = [ round(elem, 3) for elem in tracked_acc ]\n",
        "round_sparsity = [ round(elem, 3) for elem in tracked_sparsity ]\n",
        "print(round_acc)\n",
        "print(round_sparsity)"
      ],
      "metadata": {
        "colab": {
          "base_uri": "https://localhost:8080/"
        },
        "id": "MWcwlMbyUxh0",
        "outputId": "562aca3d-2f86-4537-c702-041df13251a7"
      },
      "execution_count": 40,
      "outputs": [
        {
          "output_type": "stream",
          "name": "stdout",
          "text": [
            "[0.705, 0.733, 0.723, 0.724, 0.73, 0.733, 0.693, 0.704, 0.687, 0.684, 0.676, 0.67, 0.657, 0.648, 0.65, 0.659, 0.639, 0.64, 0.617, 0.624]\n",
            "[0.074, 0.079, 0.079, 0.086, 0.093, 0.106, 0.119, 0.131, 0.141, 0.159, 0.166, 0.166, 0.166, 0.168, 0.171, 0.175, 0.178, 0.182, 0.185, 0.188]\n"
          ]
        }
      ]
    },
    {
      "cell_type": "code",
      "source": [
        "est_score = (np.array(tracked_acc) + np.array(tracked_sparsity)) / 2\n",
        "plt.plot(tracked_acc, tracked_sparsity)\n",
        "plt.plot(tracked_acc[np.argmax(est_score)], tracked_sparsity[np.argmax(est_score)], 'ro')\n",
        "plt.xlabel('Acc')\n",
        "plt.ylabel('Sparsity')\n",
        "plt.title(f'Best Score: {max(est_score):3f}, epoch: {np.argmax(est_score)}')\n",
        "plt.show()\n",
        "  "
      ],
      "metadata": {
        "colab": {
          "base_uri": "https://localhost:8080/",
          "height": 472
        },
        "id": "MVFSEKVzTs-f",
        "outputId": "bba5cc2a-c01d-4f96-883b-ee32ea85084b"
      },
      "execution_count": 35,
      "outputs": [
        {
          "output_type": "display_data",
          "data": {
            "text/plain": [
              "<Figure size 640x480 with 1 Axes>"
            ],
            "image/png": "[encoded data removed]"
          },
          "metadata": {}
        }
      ]
    },
    {
      "cell_type": "code",
      "metadata": {
        "id": "wMSKQW4k4T-G",
        "outputId": "5632797e-2a24-4a7b-b982-36e4e1ffb2cd",
        "colab": {
          "base_uri": "https://localhost:8080/",
          "height": 17
        }
      },
      "source": [
        "# you need to save the model's weights, naming it 'my_model_weights.h5'\n",
        "model.save_weights(\"drive/MyDrive/dataset/my_model_weights_9.h5\")\n",
        "\n",
        "# running this cell will immediately download a file called 'my_model_weights.h5'\n",
        "from google.colab import files\n",
        "files.download(\"drive/MyDrive/dataset/my_model_weights_9.h5\")"
      ],
      "execution_count": 34,
      "outputs": [
        {
          "output_type": "display_data",
          "data": {
            "text/plain": [
              "<IPython.core.display.Javascript object>"
            ],
            "application/javascript": [
              "\n",
              "    async function download(id, filename, size) {\n",
              "      if (!google.colab.kernel.accessAllowed) {\n",
              "        return;\n",
              "      }\n",
              "      const div = document.createElement('div');\n",
              "      const label = document.createElement('label');\n",
              "      label.textContent = `Downloading \"${filename}\": `;\n",
              "      div.appendChild(label);\n",
              "      const progress = document.createElement('progress');\n",
              "      progress.max = size;\n",
              "      div.appendChild(progress);\n",
              "      document.body.appendChild(div);\n",
              "\n",
              "      const buffers = [];\n",
              "      let downloaded = 0;\n",
              "\n",
              "      const channel = await google.colab.kernel.comms.open(id);\n",
              "      // Send a message to notify the kernel that we're ready.\n",
              "      channel.send({})\n",
              "\n",
              "      for await (const message of channel.messages) {\n",
              "        // Send a message to notify the kernel that we're ready.\n",
              "        channel.send({})\n",
              "        if (message.buffers) {\n",
              "          for (const buffer of message.buffers) {\n",
              "            buffers.push(buffer);\n",
              "            downloaded += buffer.byteLength;\n",
              "            progress.value = downloaded;\n",
              "          }\n",
              "        }\n",
              "      }\n",
              "      const blob = new Blob(buffers, {type: 'application/binary'});\n",
              "      const a = document.createElement('a');\n",
              "      a.href = window.URL.createObjectURL(blob);\n",
              "      a.download = filename;\n",
              "      div.appendChild(a);\n",
              "      a.click();\n",
              "      div.remove();\n",
              "    }\n",
              "  "
            ]
          },
          "metadata": {}
        },
        {
          "output_type": "display_data",
          "data": {
            "text/plain": [
              "<IPython.core.display.Javascript object>"
            ],
            "application/javascript": [
              "download(\"download_f2de481f-b3ae-4908-b7f4-1f7b07cfe54e\", \"my_model_weights_10.h5\", 2407040)"
            ]
          },
          "metadata": {}
        }
      ]
    }
  ]
}